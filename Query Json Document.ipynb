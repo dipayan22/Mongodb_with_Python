{
 "cells": [
  {
   "cell_type": "code",
   "execution_count": 2,
   "id": "65b8b60f-4f27-4fe9-997e-639090dc1673",
   "metadata": {},
   "outputs": [],
   "source": [
    "import pymongo\n",
    "\n",
    "client=pymongo.MongoClient('mongodb://127.0.0.1:27017/')\n",
    "\n",
    "mydb=client['Employee']\n",
    "empinfo=mydb.EmployeeInformation"
   ]
  },
  {
   "cell_type": "code",
   "execution_count": 3,
   "id": "8e2c99c8-db43-45ff-9e90-e43dd39aed57",
   "metadata": {},
   "outputs": [
    {
     "data": {
      "text/plain": [
       "InsertOneResult(ObjectId('659e9e7bf2505e760242cf54'), acknowledged=True)"
      ]
     },
     "execution_count": 3,
     "metadata": {},
     "output_type": "execute_result"
    }
   ],
   "source": [
    "# insert one recored in the MongoDB database\n",
    "\n",
    "record={\n",
    "    'FirstName':'Dipayan',\n",
    "    'LastName':'Majumder',\n",
    "    'Qualification':'B.Tech',\n",
    "    'age':20\n",
    "}\n",
    "\n",
    "empinfo.insert_one(record)"
   ]
  },
  {
   "cell_type": "code",
   "execution_count": 4,
   "id": "337f5596-8db1-43ba-8fcd-383f2ee08053",
   "metadata": {},
   "outputs": [
    {
     "data": {
      "text/plain": [
       "InsertManyResult([ObjectId('659e9f89f2505e760242cf55'), ObjectId('659e9f89f2505e760242cf56'), ObjectId('659e9f89f2505e760242cf57')], acknowledged=True)"
      ]
     },
     "execution_count": 4,
     "metadata": {},
     "output_type": "execute_result"
    }
   ],
   "source": [
    "# insert many record in the mongodb database\n",
    "\n",
    "record=[{\n",
    "            'FirstName':'Subrata',\n",
    "            'LastName':'Kundu',\n",
    "            'Qualification':'B.Tech',\n",
    "            'age':20\n",
    "        },\n",
    "        {\n",
    "            'FirstName':'Saikat',\n",
    "            'LastName':'Rakshit',\n",
    "            'Qualification':'BBA',\n",
    "            'age':20\n",
    "        },\n",
    "        {\n",
    "            'FirstName':'Titiksha',\n",
    "            'LastName':'Das',\n",
    "            'Qualification':'B.Com',\n",
    "            'age':20\n",
    "        }]\n",
    "\n",
    "empinfo.insert_many(record)"
   ]
  },
  {
   "cell_type": "code",
   "execution_count": 5,
   "id": "cb02cac4-9da5-4dd9-a48d-db02ce5c1c2e",
   "metadata": {},
   "outputs": [
    {
     "data": {
      "text/plain": [
       "{'_id': ObjectId('659e9e7bf2505e760242cf54'),\n",
       " 'FirstName': 'Dipayan',\n",
       " 'LastName': 'Majumder',\n",
       " 'Qualification': 'B.Tech',\n",
       " 'age': 20}"
      ]
     },
     "execution_count": 5,
     "metadata": {},
     "output_type": "execute_result"
    }
   ],
   "source": [
    "# simple query\n",
    "empinfo.find_one()"
   ]
  },
  {
   "cell_type": "code",
   "execution_count": 6,
   "id": "5ae10e12",
   "metadata": {},
   "outputs": [
    {
     "data": {
      "text/plain": [
       "<pymongo.cursor.Cursor at 0x26e4ee9add0>"
      ]
     },
     "execution_count": 6,
     "metadata": {},
     "output_type": "execute_result"
    }
   ],
   "source": [
    "# similar to \"select * from EmployeeInformation\"\n",
    "empinfo.find()"
   ]
  },
  {
   "cell_type": "code",
   "execution_count": 8,
   "id": "af32613d",
   "metadata": {},
   "outputs": [
    {
     "name": "stdout",
     "output_type": "stream",
     "text": [
      "{'_id': ObjectId('659e9e7bf2505e760242cf54'), 'FirstName': 'Dipayan', 'LastName': 'Majumder', 'Qualification': 'B.Tech', 'age': 20}\n",
      "{'_id': ObjectId('659e9f89f2505e760242cf55'), 'FirstName': 'Subrata', 'LastName': 'Kundu', 'Qualification': 'B.Tech', 'age': 20}\n",
      "{'_id': ObjectId('659e9f89f2505e760242cf56'), 'FirstName': 'Saikat', 'LastName': 'Rakshit', 'Qualification': 'BBA', 'age': 20}\n",
      "{'_id': ObjectId('659e9f89f2505e760242cf57'), 'FirstName': 'Titiksha', 'LastName': 'Das', 'Qualification': 'B.Com', 'age': 20}\n"
     ]
    }
   ],
   "source": [
    "for record in empinfo.find():\n",
    "    print(record)\n",
    "    "
   ]
  },
  {
   "cell_type": "code",
   "execution_count": 9,
   "id": "58ad9db6",
   "metadata": {},
   "outputs": [
    {
     "name": "stdout",
     "output_type": "stream",
     "text": [
      "{'_id': ObjectId('659e9e7bf2505e760242cf54'), 'FirstName': 'Dipayan', 'LastName': 'Majumder', 'Qualification': 'B.Tech', 'age': 20}\n"
     ]
    }
   ],
   "source": [
    "# Query the json document based on the qualification\n",
    "# Select * from Employeeinfomation FirstName=Dipayan\n",
    "\n",
    "for record in empinfo.find({'FirstName':'Dipayan'}):\n",
    "    print(record)"
   ]
  },
  {
   "cell_type": "code",
   "execution_count": 12,
   "id": "923d69a0",
   "metadata": {},
   "outputs": [
    {
     "name": "stdout",
     "output_type": "stream",
     "text": [
      "{'_id': ObjectId('659e9f89f2505e760242cf56'), 'FirstName': 'Saikat', 'LastName': 'Rakshit', 'Qualification': 'BBA', 'age': 20}\n",
      "{'_id': ObjectId('659e9f89f2505e760242cf57'), 'FirstName': 'Titiksha', 'LastName': 'Das', 'Qualification': 'B.Com', 'age': 20}\n"
     ]
    }
   ],
   "source": [
    "## Query document using query operator ($in , $lt , $gt)\n",
    "for record in empinfo.find({'Qualification':{'$in':['BBA','B.Com']}}):\n",
    "    print(record)"
   ]
  },
  {
   "cell_type": "code",
   "execution_count": 19,
   "id": "d5016d12",
   "metadata": {},
   "outputs": [
    {
     "name": "stdout",
     "output_type": "stream",
     "text": [
      "{'_id': ObjectId('659e9e7bf2505e760242cf54'), 'FirstName': 'Dipayan', 'LastName': 'Majumder', 'Qualification': 'B.Tech', 'age': 20}\n",
      "{'_id': ObjectId('659e9f89f2505e760242cf55'), 'FirstName': 'Subrata', 'LastName': 'Kundu', 'Qualification': 'B.Tech', 'age': 20}\n"
     ]
    }
   ],
   "source": [
    "# here $lt means less than\n",
    "# Amd operator and query operator\n",
    "for record in empinfo.find({'Qualification':'B.Tech','age':{'$lt':21}}):\n",
    "    print(record)"
   ]
  },
  {
   "cell_type": "code",
   "execution_count": 20,
   "id": "d870e463",
   "metadata": {},
   "outputs": [
    {
     "name": "stdout",
     "output_type": "stream",
     "text": [
      "{'_id': ObjectId('659e9e7bf2505e760242cf54'), 'FirstName': 'Dipayan', 'LastName': 'Majumder', 'Qualification': 'B.Tech', 'age': 20}\n",
      "{'_id': ObjectId('659e9f89f2505e760242cf57'), 'FirstName': 'Titiksha', 'LastName': 'Das', 'Qualification': 'B.Com', 'age': 20}\n"
     ]
    }
   ],
   "source": [
    "for record in empinfo.find({'$or':[{'FirstName':'Dipayan'},{'Qualification':'B.Com'}]}):\n",
    "    print(record)"
   ]
  },
  {
   "cell_type": "code",
   "execution_count": 22,
   "id": "c1ddd55d",
   "metadata": {},
   "outputs": [
    {
     "name": "stdout",
     "output_type": "stream",
     "text": [
      "{'_id': ObjectId('659e9e7bf2505e760242cf54'), 'FirstName': 'Dipayan', 'LastName': 'Majumder', 'Qualification': 'B.Tech', 'age': 20}\n"
     ]
    }
   ],
   "source": [
    "for record in empinfo.find({'$and':[{'FirstName':'Dipayan'},{'Qualification':'B.Tech'}]}):\n",
    "    print(record)"
   ]
  },
  {
   "cell_type": "markdown",
   "id": "328dc40f",
   "metadata": {},
   "source": [
    "Create a Another Collection"
   ]
  },
  {
   "cell_type": "code",
   "execution_count": 23,
   "id": "1769d057",
   "metadata": {},
   "outputs": [],
   "source": [
    "inventory=mydb.inventory"
   ]
  },
  {
   "cell_type": "code",
   "execution_count": 24,
   "id": "6c855009",
   "metadata": {},
   "outputs": [
    {
     "data": {
      "text/plain": [
       "InsertManyResult([ObjectId('659feb3cf2505e760242cf58'), ObjectId('659feb3cf2505e760242cf59'), ObjectId('659feb3cf2505e760242cf5a'), ObjectId('659feb3cf2505e760242cf5b'), ObjectId('659feb3cf2505e760242cf5c')], acknowledged=True)"
      ]
     },
     "execution_count": 24,
     "metadata": {},
     "output_type": "execute_result"
    }
   ],
   "source": [
    "inventory.insert_many( [\n",
    "   { 'item': \"journal\", 'qty': 25, 'size': { 'h': 14, 'w': 21,'uom': \"cm\" }, 'status': \"A\" },\n",
    "   { 'item': \"notebook\", 'qty': 50,'size': { 'h': 8.5, 'w': 11,'uom': \"in\" },'status': \"A\" },\n",
    "   { 'item': \"paper\", 'qty': 100, 'size': { 'h': 8.5, 'w': 11,'uom': \"in\" },'status': \"D\" },\n",
    "   { 'item': \"planner\", 'qty': 75, 'size': { 'h': 22.85,'w': 30,'uom': \"cm\" },'status': \"D\" },\n",
    "   { 'item': \"postcard\", 'qty': 45, 'size': { 'h': 10, 'w': 15.25,'uom': \"cm\" },'status': \"A\" }\n",
    "])"
   ]
  },
  {
   "cell_type": "code",
   "execution_count": 25,
   "id": "ac5ee16c",
   "metadata": {},
   "outputs": [
    {
     "name": "stdout",
     "output_type": "stream",
     "text": [
      "{'_id': ObjectId('659feb3cf2505e760242cf59'), 'item': 'notebook', 'qty': 50, 'size': {'h': 8.5, 'w': 11, 'uom': 'in'}, 'status': 'A'}\n",
      "{'_id': ObjectId('659feb3cf2505e760242cf5a'), 'item': 'paper', 'qty': 100, 'size': {'h': 8.5, 'w': 11, 'uom': 'in'}, 'status': 'D'}\n"
     ]
    }
   ],
   "source": [
    "for record in inventory.find({'size': { 'h': 8.5, 'w': 11,'uom': \"in\" }}):\n",
    "    print(record)"
   ]
  },
  {
   "cell_type": "code",
   "execution_count": null,
   "id": "814ebaad",
   "metadata": {},
   "outputs": [],
   "source": []
  }
 ],
 "metadata": {
  "kernelspec": {
   "display_name": "Python 3 (ipykernel)",
   "language": "python",
   "name": "python3"
  },
  "language_info": {
   "codemirror_mode": {
    "name": "ipython",
    "version": 3
   },
   "file_extension": ".py",
   "mimetype": "text/x-python",
   "name": "python",
   "nbconvert_exporter": "python",
   "pygments_lexer": "ipython3",
   "version": "3.11.3"
  }
 },
 "nbformat": 4,
 "nbformat_minor": 5
}
