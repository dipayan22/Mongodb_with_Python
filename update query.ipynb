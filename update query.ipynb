{
 "cells": [
  {
   "cell_type": "code",
   "execution_count": 1,
   "metadata": {},
   "outputs": [],
   "source": [
    "import pymongo\n",
    "\n",
    "client=pymongo.MongoClient('mongodb://127.0.0.1:27017/')\n",
    "\n",
    "mydb=client['Employee']\n",
    "inventory=mydb.inventory"
   ]
  },
  {
   "cell_type": "code",
   "execution_count": 2,
   "metadata": {},
   "outputs": [
    {
     "name": "stdout",
     "output_type": "stream",
     "text": [
      "{'_id': ObjectId('659feb3cf2505e760242cf58'), 'item': 'journal', 'qty': 25, 'size': {'h': 14, 'w': 21, 'uom': 'cm'}, 'status': 'A'}\n",
      "{'_id': ObjectId('659feb3cf2505e760242cf59'), 'item': 'notebook', 'qty': 50, 'size': {'h': 8.5, 'w': 11, 'uom': 'in'}, 'status': 'A'}\n",
      "{'_id': ObjectId('659feb3cf2505e760242cf5a'), 'item': 'paper', 'qty': 100, 'size': {'h': 8.5, 'w': 11, 'uom': 'in'}, 'status': 'D'}\n",
      "{'_id': ObjectId('659feb3cf2505e760242cf5b'), 'item': 'planner', 'qty': 75, 'size': {'h': 22.85, 'w': 30, 'uom': 'cm'}, 'status': 'D'}\n",
      "{'_id': ObjectId('659feb3cf2505e760242cf5c'), 'item': 'postcard', 'qty': 45, 'size': {'h': 10, 'w': 15.25, 'uom': 'cm'}, 'status': 'A'}\n"
     ]
    }
   ],
   "source": [
    "for recored in inventory.find():\n",
    "    print(recored)"
   ]
  },
  {
   "cell_type": "code",
   "execution_count": 3,
   "metadata": {},
   "outputs": [
    {
     "data": {
      "text/plain": [
       "InsertManyResult([ObjectId('65a207144815d35aa5311489'), ObjectId('65a207144815d35aa531148a'), ObjectId('65a207144815d35aa531148b'), ObjectId('65a207144815d35aa531148c'), ObjectId('65a207144815d35aa531148d'), ObjectId('65a207144815d35aa531148e'), ObjectId('65a207144815d35aa531148f')], acknowledged=True)"
      ]
     },
     "execution_count": 3,
     "metadata": {},
     "output_type": "execute_result"
    }
   ],
   "source": [
    "inventory.insert_many([\n",
    "    { \n",
    "        'item': \"canvas\", \n",
    "        'qty': 100, \n",
    "        'size': { 'h': 28, 'w': 35.5,'uom': \"cm\" }, \n",
    "        'status': \"A\" \n",
    "    },\n",
    "    { \n",
    "        'item': \"journal\", \n",
    "        'qty': 25, \n",
    "        'size': { 'h': 14, 'w': 21,'uom': \"cm\" }, \n",
    "        'status': \"A\" \n",
    "    },\n",
    "    { \n",
    "        'item': \"mat\", \n",
    "        'qty': 85, \n",
    "        'size': { 'h': 27.9, 'w': 35.5,'uom': \"cm\" }, \n",
    "        'status': \"A\" \n",
    "    },\n",
    "    { \n",
    "        'item': \"mousepad\", \n",
    "        'qty': 25, \n",
    "        'size': { 'h': 27.9, 'w': 35.5,'uom': \"cm\" }, \n",
    "        'status': \"P\" \n",
    "    },\n",
    "    { \n",
    "        'item': \"notebook\", \n",
    "        'qty': 50, \n",
    "        'size': { 'h': 8.5, 'w': 11,'uom': \"in\" }, \n",
    "        'status': \"A\" \n",
    "    },\n",
    "    { \n",
    "        'item': \"sketchbook\", \n",
    "        'qty': 80, \n",
    "        'size': { 'h': 14, 'w': 21,'uom': \"cm\" }, \n",
    "        'status': \"A\" \n",
    "    },\n",
    "    { \n",
    "        'item': \"sketchpad\", \n",
    "        'qty': 95, \n",
    "        'size': { 'h': 22.85, 'w': 30.5,'uom': \"cm\" }, \n",
    "        'status': \"A\" \n",
    "    },\n",
    "])"
   ]
  },
  {
   "cell_type": "code",
   "execution_count": 5,
   "metadata": {},
   "outputs": [
    {
     "data": {
      "text/plain": [
       "UpdateResult({'n': 1, 'nModified': 1, 'ok': 1.0, 'updatedExisting': True}, acknowledged=True)"
      ]
     },
     "execution_count": 5,
     "metadata": {},
     "output_type": "execute_result"
    }
   ],
   "source": [
    "inventory.update_one(\n",
    "    {'item':'sketchpad'},\n",
    "    { '$set':{ 'size.uom' : 'in' , 'status':'P' }, \n",
    "    '$currentDate' : {'lastmodified' : True}},\n",
    ")"
   ]
  },
  {
   "cell_type": "code",
   "execution_count": 13,
   "metadata": {},
   "outputs": [
    {
     "data": {
      "text/plain": [
       "UpdateResult({'n': 4, 'nModified': 4, 'ok': 1.0, 'updatedExisting': True}, acknowledged=True)"
      ]
     },
     "execution_count": 13,
     "metadata": {},
     "output_type": "execute_result"
    }
   ],
   "source": [
    "inventory.update_many(\n",
    "    {'qty':{'$lt':50}},\n",
    "    {'$set':{'size.uom':'in','status':'P'},\n",
    "    '$currentDate' : {'lastmodified' : True}}\n",
    ")"
   ]
  },
  {
   "cell_type": "code",
   "execution_count": 14,
   "metadata": {},
   "outputs": [
    {
     "data": {
      "text/plain": [
       "UpdateResult({'n': 1, 'nModified': 1, 'ok': 1.0, 'updatedExisting': True}, acknowledged=True)"
      ]
     },
     "execution_count": 14,
     "metadata": {},
     "output_type": "execute_result"
    }
   ],
   "source": [
    "inventory.replace_one(\n",
    "    {'item' : 'paper'},\n",
    "    {'item' : 'paper',\n",
    "     'inStock':[\n",
    "         { 'warehouse':'A', 'qty':60 },\n",
    "         { 'warehouse':'B', 'qty':50 }]},\n",
    "    \n",
    ")"
   ]
  },
  {
   "cell_type": "code",
   "execution_count": null,
   "metadata": {},
   "outputs": [],
   "source": []
  }
 ],
 "metadata": {
  "kernelspec": {
   "display_name": "Python 3",
   "language": "python",
   "name": "python3"
  },
  "language_info": {
   "codemirror_mode": {
    "name": "ipython",
    "version": 3
   },
   "file_extension": ".py",
   "mimetype": "text/x-python",
   "name": "python",
   "nbconvert_exporter": "python",
   "pygments_lexer": "ipython3",
   "version": "3.11.3"
  }
 },
 "nbformat": 4,
 "nbformat_minor": 2
}
