{
 "cells": [
  {
   "cell_type": "code",
   "execution_count": 1,
   "metadata": {},
   "outputs": [
    {
     "data": {
      "text/plain": [
       "InsertManyResult([ObjectId('65a3cf3c673e8d10a073ae0c'), ObjectId('65a3cf3c673e8d10a073ae0d'), ObjectId('65a3cf3c673e8d10a073ae0e'), ObjectId('65a3cf3c673e8d10a073ae0f'), ObjectId('65a3cf3c673e8d10a073ae10')], acknowledged=True)"
      ]
     },
     "execution_count": 1,
     "metadata": {},
     "output_type": "execute_result"
    }
   ],
   "source": [
    "from pymongo import MongoClient\n",
    "\n",
    "client=MongoClient()\n",
    "\n",
    "client=MongoClient('mongodb://localhost:27017/')\n",
    "\n",
    "mydatabase=client['Students']\n",
    "collection = mydatabase[\"StudentScore\"]\n",
    "\n",
    "data=[\n",
    "    {'Name':'Dipayan','Subject':'Machine Learning' , 'Score':87},\n",
    "    {'Name':'Avik','Subject':'Java' , 'Score':87},\n",
    "    {'Name':'Sudhir','Subject':'DMBS' , 'Score':87},\n",
    "    {'Name':'Rithik','Subject':'Node JS' , 'Score':87},\n",
    "    {'Name':'Arya','Subject':'JavaScript' , 'Score':87},\n",
    "]\n",
    "\n",
    "collection.insert_many(data) "
   ]
  },
  {
   "cell_type": "code",
   "execution_count": 2,
   "metadata": {},
   "outputs": [],
   "source": [
    "def updatescore(Name,scr):\n",
    "    collection.update_one(\n",
    "        {'Name' : Name},\n",
    "        {'$set':{'Score' : scr},\n",
    "         '$currentDate':{'lastmodified':True}}\n",
    "    )"
   ]
  },
  {
   "cell_type": "code",
   "execution_count": 3,
   "metadata": {},
   "outputs": [],
   "source": [
    "updatescore('Avik',78)\n",
    "updatescore('Sudhir',81)\n",
    "updatescore('Rithik',90)\n",
    "updatescore('Arya',56)"
   ]
  },
  {
   "cell_type": "code",
   "execution_count": 6,
   "metadata": {},
   "outputs": [
    {
     "name": "stdout",
     "output_type": "stream",
     "text": [
      "{'_id': 'Dipayan', 'subject': 1}\n",
      "{'_id': 'Rithik', 'subject': 1}\n",
      "{'_id': 'Arya', 'subject': 1}\n",
      "{'_id': 'Avik', 'subject': 1}\n",
      "{'_id': 'Sudhir', 'subject': 1}\n"
     ]
    }
   ],
   "source": [
    "# find the total subject by the user\n",
    "agg_result=collection.aggregate(\n",
    "    [\n",
    "        {\n",
    "            '$group' :\n",
    "                {\n",
    "                    '_id' : '$Name',\n",
    "                    'subject' : {'$sum' : 1}\n",
    "                }\n",
    "        }\n",
    "    ]\n",
    ")\n",
    "\n",
    "for i in agg_result:\n",
    "    print(i)"
   ]
  },
  {
   "cell_type": "code",
   "execution_count": 7,
   "metadata": {},
   "outputs": [
    {
     "data": {
      "text/plain": [
       "InsertManyResult([ObjectId('65a3d481673e8d10a073ae11'), ObjectId('65a3d481673e8d10a073ae12'), ObjectId('65a3d481673e8d10a073ae13'), ObjectId('65a3d481673e8d10a073ae14'), ObjectId('65a3d481673e8d10a073ae15'), ObjectId('65a3d481673e8d10a073ae16'), ObjectId('65a3d481673e8d10a073ae17'), ObjectId('65a3d481673e8d10a073ae18'), ObjectId('65a3d481673e8d10a073ae19'), ObjectId('65a3d481673e8d10a073ae1a'), ObjectId('65a3d481673e8d10a073ae1b'), ObjectId('65a3d481673e8d10a073ae1c'), ObjectId('65a3d481673e8d10a073ae1d'), ObjectId('65a3d481673e8d10a073ae1e'), ObjectId('65a3d481673e8d10a073ae1f'), ObjectId('65a3d481673e8d10a073ae20'), ObjectId('65a3d481673e8d10a073ae21'), ObjectId('65a3d481673e8d10a073ae22'), ObjectId('65a3d481673e8d10a073ae23'), ObjectId('65a3d481673e8d10a073ae24')], acknowledged=True)"
      ]
     },
     "execution_count": 7,
     "metadata": {},
     "output_type": "execute_result"
    }
   ],
   "source": [
    "data=[\n",
    "    \n",
    "    {'Name':'Dipayan','Subject':'Java' , 'Score':88},\n",
    "    {'Name':'Dipayan','Subject':'DMBS' , 'Score':81},\n",
    "    {'Name':'Dipayan','Subject':'Node JS' , 'Score':78},\n",
    "    {'Name':'Dipayan','Subject':'JavaScript' , 'Score':65},\n",
    "    {'Name':'Avik','Subject':'Machine Learning' , 'Score':77},\n",
    "    {'Name':'Avik','Subject':'DMBS' , 'Score':98},\n",
    "    {'Name':'Avik','Subject':'Node JS' , 'Score':59},\n",
    "    {'Name':'Avik','Subject':'JavaScript' , 'Score':54},\n",
    "    {'Name':'Sudhir','Subject':'Machine Learning' , 'Score':78},\n",
    "    {'Name':'Sudhir','Subject':'Java' , 'Score':74},\n",
    "    {'Name':'Sudhir','Subject':'Node JS' , 'Score':90},\n",
    "    {'Name':'Sudhir','Subject':'JavaScript' , 'Score':87},\n",
    "    {'Name':'Rithik','Subject':'Machine Learning' , 'Score':98},\n",
    "    {'Name':'Rithik','Subject':'Java' , 'Score':65},\n",
    "    {'Name':'Rithik','Subject':'DMBS' , 'Score':72},\n",
    "    \n",
    "    {'Name':'Rithik','Subject':'JavaScript' , 'Score':77},\n",
    "    {'Name':'Arya','Subject':'Machine Learning' , 'Score':90},\n",
    "    {'Name':'Arya','Subject':'Java' , 'Score':89},\n",
    "    {'Name':'Arya','Subject':'DMBS' , 'Score':56},\n",
    "    {'Name':'Arya','Subject':'Node JS' , 'Score':78},\n",
    "    \n",
    "]\n",
    "\n",
    "collection.insert_many(data)\n"
   ]
  },
  {
   "cell_type": "code",
   "execution_count": 8,
   "metadata": {},
   "outputs": [
    {
     "data": {
      "text/plain": [
       "InsertManyResult([ObjectId('65a3d4ce673e8d10a073ae25'), ObjectId('65a3d4ce673e8d10a073ae26'), ObjectId('65a3d4ce673e8d10a073ae27'), ObjectId('65a3d4ce673e8d10a073ae28'), ObjectId('65a3d4ce673e8d10a073ae29')], acknowledged=True)"
      ]
     },
     "execution_count": 8,
     "metadata": {},
     "output_type": "execute_result"
    }
   ],
   "source": [
    "data=[\n",
    "    {'Name':'Rithik','Subject':'JavaScript' , 'Score':77},\n",
    "    {'Name':'Arya','Subject':'Machine Learning' , 'Score':90},\n",
    "    {'Name':'Arya','Subject':'Java' , 'Score':89},\n",
    "    {'Name':'Arya','Subject':'DMBS' , 'Score':56},\n",
    "    {'Name':'Arya','Subject':'Node JS' , 'Score':78},\n",
    "]\n",
    "\n",
    "collection.insert_many(data)"
   ]
  },
  {
   "cell_type": "code",
   "execution_count": 11,
   "metadata": {},
   "outputs": [
    {
     "name": "stdout",
     "output_type": "stream",
     "text": [
      "{'_id': 'Dipayan', 'Total Record': 5}\n",
      "{'_id': 'Rithik', 'Total Record': 6}\n",
      "{'_id': 'Arya', 'Total Record': 9}\n",
      "{'_id': 'Avik', 'Total Record': 5}\n",
      "{'_id': 'Sudhir', 'Total Record': 5}\n"
     ]
    }
   ],
   "source": [
    "agg_result=collection.aggregate(\n",
    "    [\n",
    "        {\n",
    "            '$group':\n",
    "            {\n",
    "                \"_id\":'$Name',\n",
    "                'Total Record' : {'$sum' : 1}\n",
    "            }\n",
    "        }\n",
    "    ]\n",
    ")\n",
    "\n",
    "for i in agg_result:\n",
    "    print(i)"
   ]
  },
  {
   "cell_type": "code",
   "execution_count": 12,
   "metadata": {},
   "outputs": [
    {
     "name": "stdout",
     "output_type": "stream",
     "text": [
      "{'_id': 'Dipayan', 'Total score': 399}\n",
      "{'_id': 'Rithik', 'Total score': 479}\n",
      "{'_id': 'Arya', 'Total score': 682}\n",
      "{'_id': 'Sudhir', 'Total score': 410}\n",
      "{'_id': 'Avik', 'Total score': 366}\n"
     ]
    }
   ],
   "source": [
    "score_agg=collection.aggregate([\n",
    "    {\n",
    "        '$group':\n",
    "        {\n",
    "            '_id':'$Name',\n",
    "            'Total score' : {'$sum' : '$Score'}\n",
    "        }\n",
    "    }\n",
    "])\n",
    "\n",
    "for i in score_agg:\n",
    "    print(i)"
   ]
  },
  {
   "cell_type": "code",
   "execution_count": 14,
   "metadata": {},
   "outputs": [
    {
     "name": "stdout",
     "output_type": "stream",
     "text": [
      "{'_id': 'Sudhir', 'StudentScoreAverage': 82.0}\n",
      "{'_id': 'Rithik', 'StudentScoreAverage': 79.83333333333333}\n",
      "{'_id': 'Arya', 'StudentScoreAverage': 75.77777777777777}\n",
      "{'_id': 'Dipayan', 'StudentScoreAverage': 79.8}\n",
      "{'_id': 'Avik', 'StudentScoreAverage': 73.2}\n"
     ]
    }
   ],
   "source": [
    "avg_score_aggg=collection.aggregate([\n",
    "    {\n",
    "        '$group':\n",
    "        {\n",
    "            '_id':'$Name',\n",
    "            'StudentScoreAverage':{'$avg' : '$Score'}\n",
    "        }\n",
    "    }\n",
    "])\n",
    "\n",
    "for i in avg_score_aggg:\n",
    "    print(i)"
   ]
  },
  {
   "cell_type": "code",
   "execution_count": 15,
   "metadata": {},
   "outputs": [],
   "source": [
    "# create a new collection in the database\n",
    "import datetime\n",
    "\n",
    "record=[\n",
    "    {'_id':1,'item':'abc','price':10,'quantity':2,'date':datetime.datetime.utcnow()},\n",
    "    {'_id':2,'item':'def','price':5,'quantity':10,'date':datetime.datetime.utcnow()},\n",
    "    {'_id':3,'item':'ghk','price':15,'quantity':5,'date':datetime.datetime.utcnow()},\n",
    "    {'_id':4,'item':'imn','price':20,'quantity':3,'date':datetime.datetime.utcnow()},\n",
    "    {'_id':5,'item':'opq','price':25,'quantity':4,'date':datetime.datetime.utcnow()},\n",
    "]"
   ]
  },
  {
   "cell_type": "code",
   "execution_count": 16,
   "metadata": {},
   "outputs": [
    {
     "data": {
      "text/plain": [
       "[{'_id': 1,\n",
       "  'item': 'abc',\n",
       "  'price': 10,\n",
       "  'quantity': 2,\n",
       "  'date': datetime.datetime(2024, 1, 14, 12, 49, 46, 668528)},\n",
       " {'_id': 2,\n",
       "  'item': 'def',\n",
       "  'price': 5,\n",
       "  'quantity': 10,\n",
       "  'date': datetime.datetime(2024, 1, 14, 12, 49, 46, 668528)},\n",
       " {'_id': 3,\n",
       "  'item': 'ghk',\n",
       "  'price': 15,\n",
       "  'quantity': 5,\n",
       "  'date': datetime.datetime(2024, 1, 14, 12, 49, 46, 668528)},\n",
       " {'_id': 4,\n",
       "  'item': 'imn',\n",
       "  'price': 20,\n",
       "  'quantity': 3,\n",
       "  'date': datetime.datetime(2024, 1, 14, 12, 49, 46, 668528)},\n",
       " {'_id': 5,\n",
       "  'item': 'opq',\n",
       "  'price': 25,\n",
       "  'quantity': 4,\n",
       "  'date': datetime.datetime(2024, 1, 14, 12, 49, 46, 668528)}]"
      ]
     },
     "execution_count": 16,
     "metadata": {},
     "output_type": "execute_result"
    }
   ],
   "source": [
    "record"
   ]
  },
  {
   "cell_type": "code",
   "execution_count": 17,
   "metadata": {},
   "outputs": [
    {
     "data": {
      "text/plain": [
       "InsertManyResult([1, 2, 3, 4, 5], acknowledged=True)"
      ]
     },
     "execution_count": 17,
     "metadata": {},
     "output_type": "execute_result"
    }
   ],
   "source": [
    "mycollection=mydatabase['store']\n",
    "mycollection.insert_many(record)"
   ]
  },
  {
   "cell_type": "code",
   "execution_count": 18,
   "metadata": {},
   "outputs": [
    {
     "data": {
      "text/plain": [
       "InsertManyResult([6, 7, 8, 9, 10, 11, 12, 13, 14, 15], acknowledged=True)"
      ]
     },
     "execution_count": 18,
     "metadata": {},
     "output_type": "execute_result"
    }
   ],
   "source": [
    "record=[\n",
    "    {'_id':6,'item':'abc','price':5,'quantity':2,'date':datetime.datetime.utcnow()},\n",
    "    {'_id':7,'item':'def','price':5,'quantity':10,'date':datetime.datetime.utcnow()},\n",
    "    {'_id':8,'item':'ghk','price':20,'quantity':5,'date':datetime.datetime.utcnow()},\n",
    "    {'_id':9,'item':'imn','price':15,'quantity':5,'date':datetime.datetime.utcnow()},\n",
    "    {'_id':10,'item':'opq','price':10,'quantity':10,'date':datetime.datetime.utcnow()},\n",
    "    {'_id':11,'item':'abc','price':20,'quantity':2,'date':datetime.datetime.utcnow()},\n",
    "    {'_id':12,'item':'def','price':5,'quantity':10,'date':datetime.datetime.utcnow()},\n",
    "    {'_id':13,'item':'ghk','price':5,'quantity':5,'date':datetime.datetime.utcnow()},\n",
    "    {'_id':14,'item':'imn','price':25,'quantity':5,'date':datetime.datetime.utcnow()},\n",
    "    {'_id':15,'item':'opq','price':25,'quantity':4,'date':datetime.datetime.utcnow()},\n",
    "]\n",
    "\n",
    "mycollection.insert_many(record)"
   ]
  },
  {
   "cell_type": "code",
   "execution_count": 20,
   "metadata": {},
   "outputs": [
    {
     "name": "stdout",
     "output_type": "stream",
     "text": [
      "{'_id': 'ghk', 'avgAmount': 66.66666666666667, 'avgQuantity': 5.0}\n",
      "{'_id': 'opq', 'avgAmount': 100.0, 'avgQuantity': 6.0}\n",
      "{'_id': 'imn', 'avgAmount': 86.66666666666667, 'avgQuantity': 4.333333333333333}\n",
      "{'_id': 'abc', 'avgAmount': 23.333333333333332, 'avgQuantity': 2.0}\n",
      "{'_id': 'def', 'avgAmount': 50.0, 'avgQuantity': 10.0}\n"
     ]
    }
   ],
   "source": [
    "store_agg=mycollection.aggregate([\n",
    "    {\n",
    "        '$group':\n",
    "        {\n",
    "            '_id':'$item',\n",
    "            'avgAmount' : { '$avg' : { '$multiply' : [ '$price','$quantity']}},\n",
    "            'avgQuantity' : { '$avg' : '$quantity'}\n",
    "        }\n",
    "    }\n",
    "])\n",
    "\n",
    "for i in store_agg:\n",
    "    print(i)"
   ]
  },
  {
   "cell_type": "code",
   "execution_count": null,
   "metadata": {},
   "outputs": [],
   "source": []
  }
 ],
 "metadata": {
  "kernelspec": {
   "display_name": "Python 3",
   "language": "python",
   "name": "python3"
  },
  "language_info": {
   "codemirror_mode": {
    "name": "ipython",
    "version": 3
   },
   "file_extension": ".py",
   "mimetype": "text/x-python",
   "name": "python",
   "nbconvert_exporter": "python",
   "pygments_lexer": "ipython3",
   "version": "3.11.3"
  }
 },
 "nbformat": 4,
 "nbformat_minor": 2
}
